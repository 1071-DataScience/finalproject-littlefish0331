{
 "cells": [
  {
   "cell_type": "code",
   "execution_count": 1,
   "metadata": {},
   "outputs": [
    {
     "name": "stdout",
     "output_type": "stream",
     "text": [
      "Populating the interactive namespace from numpy and matplotlib\n"
     ]
    }
   ],
   "source": [
    "import pandas as pd\n",
    "import numpy as np\n",
    "import matplotlib.pyplot as plt\n",
    "import matplotlib as mpl\n",
    "import datetime as dt\n",
    "import seaborn as sns\n",
    "\n",
    "\n",
    "%pylab inline\n",
    "%matplotlib inline"
   ]
  },
  {
   "cell_type": "code",
   "execution_count": 2,
   "metadata": {},
   "outputs": [],
   "source": [
    "order = pd.read_csv('/Users/siang/Documents/107-1/資料科學實務/data_ver01/order.csv', sep =',', encoding='utf8',\n",
    "                    dtype={'order_id':object,'group_id':object})"
   ]
  },
  {
   "cell_type": "code",
   "execution_count": 3,
   "metadata": {},
   "outputs": [],
   "source": [
    "group = pd.read_csv('/Users/siang/Documents/107-1/資料科學實務/data_ver01/group.csv',sep = ',',encoding='utf8',dtype={'order_id':object,'group_id':object})"
   ]
  },
  {
   "cell_type": "code",
   "execution_count": 4,
   "metadata": {},
   "outputs": [
    {
     "data": {
      "text/plain": [
       "396915"
      ]
     },
     "execution_count": 4,
     "metadata": {},
     "output_type": "execute_result"
    }
   ],
   "source": [
    "order.order_id.count()"
   ]
  },
  {
   "cell_type": "code",
   "execution_count": 8,
   "metadata": {},
   "outputs": [],
   "source": [
    "training = pd.read_csv('/Users/siang/Documents/107-1/資料科學實務/data_ver01/training-set.csv',\n",
    "                       sep = ',',encoding='utf8',dtype={'order_id':object})"
   ]
  },
  {
   "cell_type": "code",
   "execution_count": 9,
   "metadata": {
    "scrolled": true
   },
   "outputs": [
    {
     "data": {
      "text/plain": [
       "297020"
      ]
     },
     "execution_count": 9,
     "metadata": {},
     "output_type": "execute_result"
    }
   ],
   "source": [
    "training.order_id.count()"
   ]
  },
  {
   "cell_type": "code",
   "execution_count": 60,
   "metadata": {},
   "outputs": [
    {
     "data": {
      "text/html": [
       "<div>\n",
       "<style scoped>\n",
       "    .dataframe tbody tr th:only-of-type {\n",
       "        vertical-align: middle;\n",
       "    }\n",
       "\n",
       "    .dataframe tbody tr th {\n",
       "        vertical-align: top;\n",
       "    }\n",
       "\n",
       "    .dataframe thead th {\n",
       "        text-align: right;\n",
       "    }\n",
       "</style>\n",
       "<table border=\"1\" class=\"dataframe\">\n",
       "  <thead>\n",
       "    <tr style=\"text-align: right;\">\n",
       "      <th></th>\n",
       "      <th>order_id</th>\n",
       "      <th>deal_or_not</th>\n",
       "      <th>group_id</th>\n",
       "      <th>order_date</th>\n",
       "      <th>source_1</th>\n",
       "      <th>source_2</th>\n",
       "      <th>unit</th>\n",
       "      <th>people_amount</th>\n",
       "    </tr>\n",
       "  </thead>\n",
       "  <tbody>\n",
       "  </tbody>\n",
       "</table>\n",
       "</div>"
      ],
      "text/plain": [
       "Empty DataFrame\n",
       "Columns: [order_id, deal_or_not, group_id, order_date, source_1, source_2, unit, people_amount]\n",
       "Index: []"
      ]
     },
     "execution_count": 60,
     "metadata": {},
     "output_type": "execute_result"
    }
   ],
   "source": [
    "order[order['order_id']==43556]"
   ]
  },
  {
   "cell_type": "code",
   "execution_count": 56,
   "metadata": {
    "scrolled": true
   },
   "outputs": [
    {
     "name": "stdout",
     "output_type": "stream",
     "text": [
      "Series([], Name: begin_date, dtype: object)\n",
      "Series([], Name: order_date, dtype: object)\n"
     ]
    }
   ],
   "source": [
    "print(group[group['group_id']==54856].begin_date)\n",
    "print(order[order['order_id']==43556].order_date)"
   ]
  },
  {
   "cell_type": "code",
   "execution_count": 10,
   "metadata": {},
   "outputs": [
    {
     "name": "stdout",
     "output_type": "stream",
     "text": [
      "order_id         object\n",
      "group_id         object\n",
      "order_date       object\n",
      "source_1          int64\n",
      "source_2          int64\n",
      "unit              int64\n",
      "people_amount     int64\n",
      "dtype: object\n",
      "group_id          object\n",
      "sub_line           int64\n",
      "area               int64\n",
      "days               int64\n",
      "begin_date        object\n",
      "price              int64\n",
      "product_name      object\n",
      "promotion_prog    object\n",
      "dtype: object\n",
      "order_id       object\n",
      "deal_or_not     int64\n",
      "dtype: object\n"
     ]
    }
   ],
   "source": [
    "print(order.dtypes)\n",
    "print(group.dtypes)\n",
    "print(training.dtypes)"
   ]
  },
  {
   "cell_type": "code",
   "execution_count": 11,
   "metadata": {},
   "outputs": [
    {
     "data": {
      "text/plain": [
       "297020"
      ]
     },
     "execution_count": 11,
     "metadata": {},
     "output_type": "execute_result"
    }
   ],
   "source": [
    "len(set(training.order_id).intersection(order.order_id))"
   ]
  },
  {
   "cell_type": "code",
   "execution_count": 12,
   "metadata": {},
   "outputs": [],
   "source": [
    "order = pd.merge(training, order, on = 'order_id', how='inner')"
   ]
  },
  {
   "cell_type": "code",
   "execution_count": 14,
   "metadata": {
    "scrolled": true
   },
   "outputs": [
    {
     "data": {
      "text/plain": [
       "order_id         0\n",
       "deal_or_not      0\n",
       "group_id         0\n",
       "order_date       0\n",
       "source_1         0\n",
       "source_2         0\n",
       "unit             0\n",
       "people_amount    0\n",
       "dtype: int64"
      ]
     },
     "execution_count": 14,
     "metadata": {},
     "output_type": "execute_result"
    }
   ],
   "source": [
    "order.isna().sum()"
   ]
  },
  {
   "cell_type": "code",
   "execution_count": 15,
   "metadata": {},
   "outputs": [],
   "source": [
    "#將group的begin date merge 到 order\n",
    "temp = pd.merge(order, group[['group_id','begin_date']], on='group_id', how='left')"
   ]
  },
  {
   "cell_type": "code",
   "execution_count": 16,
   "metadata": {},
   "outputs": [],
   "source": [
    "temp['order_date'] = temp['order_date'].astype('datetime64')\n",
    "temp['begin_date'] = temp['begin_date'].astype('datetime64')"
   ]
  },
  {
   "cell_type": "code",
   "execution_count": 17,
   "metadata": {},
   "outputs": [
    {
     "data": {
      "text/html": [
       "<div>\n",
       "<style scoped>\n",
       "    .dataframe tbody tr th:only-of-type {\n",
       "        vertical-align: middle;\n",
       "    }\n",
       "\n",
       "    .dataframe tbody tr th {\n",
       "        vertical-align: top;\n",
       "    }\n",
       "\n",
       "    .dataframe thead th {\n",
       "        text-align: right;\n",
       "    }\n",
       "</style>\n",
       "<table border=\"1\" class=\"dataframe\">\n",
       "  <thead>\n",
       "    <tr style=\"text-align: right;\">\n",
       "      <th></th>\n",
       "      <th>order_id</th>\n",
       "      <th>deal_or_not</th>\n",
       "      <th>group_id</th>\n",
       "      <th>order_date</th>\n",
       "      <th>source_1</th>\n",
       "      <th>source_2</th>\n",
       "      <th>unit</th>\n",
       "      <th>people_amount</th>\n",
       "      <th>begin_date</th>\n",
       "    </tr>\n",
       "  </thead>\n",
       "  <tbody>\n",
       "    <tr>\n",
       "      <th>0</th>\n",
       "      <td>136100</td>\n",
       "      <td>0</td>\n",
       "      <td>63695</td>\n",
       "      <td>2017-01-05</td>\n",
       "      <td>1</td>\n",
       "      <td>1</td>\n",
       "      <td>1</td>\n",
       "      <td>2</td>\n",
       "      <td>2017-03-22</td>\n",
       "    </tr>\n",
       "    <tr>\n",
       "      <th>1</th>\n",
       "      <td>140370</td>\n",
       "      <td>0</td>\n",
       "      <td>63695</td>\n",
       "      <td>2016-11-09</td>\n",
       "      <td>1</td>\n",
       "      <td>1</td>\n",
       "      <td>2</td>\n",
       "      <td>1</td>\n",
       "      <td>2017-03-22</td>\n",
       "    </tr>\n",
       "    <tr>\n",
       "      <th>2</th>\n",
       "      <td>211009</td>\n",
       "      <td>0</td>\n",
       "      <td>63695</td>\n",
       "      <td>2017-01-20</td>\n",
       "      <td>1</td>\n",
       "      <td>1</td>\n",
       "      <td>3</td>\n",
       "      <td>2</td>\n",
       "      <td>2017-03-22</td>\n",
       "    </tr>\n",
       "    <tr>\n",
       "      <th>3</th>\n",
       "      <td>41571</td>\n",
       "      <td>1</td>\n",
       "      <td>53481</td>\n",
       "      <td>2017-03-14</td>\n",
       "      <td>1</td>\n",
       "      <td>1</td>\n",
       "      <td>4</td>\n",
       "      <td>4</td>\n",
       "      <td>2017-05-17</td>\n",
       "    </tr>\n",
       "    <tr>\n",
       "      <th>4</th>\n",
       "      <td>64125</td>\n",
       "      <td>1</td>\n",
       "      <td>53481</td>\n",
       "      <td>2017-03-27</td>\n",
       "      <td>2</td>\n",
       "      <td>1</td>\n",
       "      <td>5</td>\n",
       "      <td>1</td>\n",
       "      <td>2017-05-17</td>\n",
       "    </tr>\n",
       "  </tbody>\n",
       "</table>\n",
       "</div>"
      ],
      "text/plain": [
       "  order_id  deal_or_not group_id order_date  source_1  source_2  unit  \\\n",
       "0   136100            0    63695 2017-01-05         1         1     1   \n",
       "1   140370            0    63695 2016-11-09         1         1     2   \n",
       "2   211009            0    63695 2017-01-20         1         1     3   \n",
       "3    41571            1    53481 2017-03-14         1         1     4   \n",
       "4    64125            1    53481 2017-03-27         2         1     5   \n",
       "\n",
       "   people_amount begin_date  \n",
       "0              2 2017-03-22  \n",
       "1              1 2017-03-22  \n",
       "2              2 2017-03-22  \n",
       "3              4 2017-05-17  \n",
       "4              1 2017-05-17  "
      ]
     },
     "execution_count": 17,
     "metadata": {},
     "output_type": "execute_result"
    }
   ],
   "source": [
    "temp.head()"
   ]
  },
  {
   "cell_type": "code",
   "execution_count": 18,
   "metadata": {},
   "outputs": [],
   "source": [
    "temp['wait_duration'] = (temp['begin_date'] - temp['order_date']).dt.days"
   ]
  },
  {
   "cell_type": "code",
   "execution_count": 19,
   "metadata": {},
   "outputs": [
    {
     "data": {
      "text/html": [
       "<div>\n",
       "<style scoped>\n",
       "    .dataframe tbody tr th:only-of-type {\n",
       "        vertical-align: middle;\n",
       "    }\n",
       "\n",
       "    .dataframe tbody tr th {\n",
       "        vertical-align: top;\n",
       "    }\n",
       "\n",
       "    .dataframe thead th {\n",
       "        text-align: right;\n",
       "    }\n",
       "</style>\n",
       "<table border=\"1\" class=\"dataframe\">\n",
       "  <thead>\n",
       "    <tr style=\"text-align: right;\">\n",
       "      <th></th>\n",
       "      <th>order_id</th>\n",
       "      <th>deal_or_not</th>\n",
       "      <th>group_id</th>\n",
       "      <th>order_date</th>\n",
       "      <th>source_1</th>\n",
       "      <th>source_2</th>\n",
       "      <th>unit</th>\n",
       "      <th>people_amount</th>\n",
       "      <th>begin_date</th>\n",
       "      <th>wait_duration</th>\n",
       "    </tr>\n",
       "  </thead>\n",
       "  <tbody>\n",
       "    <tr>\n",
       "      <th>0</th>\n",
       "      <td>136100</td>\n",
       "      <td>0</td>\n",
       "      <td>63695</td>\n",
       "      <td>2017-01-05</td>\n",
       "      <td>1</td>\n",
       "      <td>1</td>\n",
       "      <td>1</td>\n",
       "      <td>2</td>\n",
       "      <td>2017-03-22</td>\n",
       "      <td>76</td>\n",
       "    </tr>\n",
       "    <tr>\n",
       "      <th>1</th>\n",
       "      <td>140370</td>\n",
       "      <td>0</td>\n",
       "      <td>63695</td>\n",
       "      <td>2016-11-09</td>\n",
       "      <td>1</td>\n",
       "      <td>1</td>\n",
       "      <td>2</td>\n",
       "      <td>1</td>\n",
       "      <td>2017-03-22</td>\n",
       "      <td>133</td>\n",
       "    </tr>\n",
       "    <tr>\n",
       "      <th>2</th>\n",
       "      <td>211009</td>\n",
       "      <td>0</td>\n",
       "      <td>63695</td>\n",
       "      <td>2017-01-20</td>\n",
       "      <td>1</td>\n",
       "      <td>1</td>\n",
       "      <td>3</td>\n",
       "      <td>2</td>\n",
       "      <td>2017-03-22</td>\n",
       "      <td>61</td>\n",
       "    </tr>\n",
       "    <tr>\n",
       "      <th>3</th>\n",
       "      <td>41571</td>\n",
       "      <td>1</td>\n",
       "      <td>53481</td>\n",
       "      <td>2017-03-14</td>\n",
       "      <td>1</td>\n",
       "      <td>1</td>\n",
       "      <td>4</td>\n",
       "      <td>4</td>\n",
       "      <td>2017-05-17</td>\n",
       "      <td>64</td>\n",
       "    </tr>\n",
       "    <tr>\n",
       "      <th>4</th>\n",
       "      <td>64125</td>\n",
       "      <td>1</td>\n",
       "      <td>53481</td>\n",
       "      <td>2017-03-27</td>\n",
       "      <td>2</td>\n",
       "      <td>1</td>\n",
       "      <td>5</td>\n",
       "      <td>1</td>\n",
       "      <td>2017-05-17</td>\n",
       "      <td>51</td>\n",
       "    </tr>\n",
       "  </tbody>\n",
       "</table>\n",
       "</div>"
      ],
      "text/plain": [
       "  order_id  deal_or_not group_id order_date  source_1  source_2  unit  \\\n",
       "0   136100            0    63695 2017-01-05         1         1     1   \n",
       "1   140370            0    63695 2016-11-09         1         1     2   \n",
       "2   211009            0    63695 2017-01-20         1         1     3   \n",
       "3    41571            1    53481 2017-03-14         1         1     4   \n",
       "4    64125            1    53481 2017-03-27         2         1     5   \n",
       "\n",
       "   people_amount begin_date  wait_duration  \n",
       "0              2 2017-03-22             76  \n",
       "1              1 2017-03-22            133  \n",
       "2              2 2017-03-22             61  \n",
       "3              4 2017-05-17             64  \n",
       "4              1 2017-05-17             51  "
      ]
     },
     "execution_count": 19,
     "metadata": {},
     "output_type": "execute_result"
    }
   ],
   "source": [
    "temp.head()"
   ]
  },
  {
   "cell_type": "code",
   "execution_count": 20,
   "metadata": {},
   "outputs": [],
   "source": [
    "temp['order_date_weekday'] = temp['order_date'].dt.dayofweek + 1"
   ]
  },
  {
   "cell_type": "code",
   "execution_count": 21,
   "metadata": {},
   "outputs": [],
   "source": [
    "temp['order_date_is_weekend'] = np.where((temp['order_date_weekday']==6)|(temp['order_date_weekday']==7), 1 ,0)"
   ]
  },
  {
   "cell_type": "code",
   "execution_count": 22,
   "metadata": {},
   "outputs": [],
   "source": [
    "temp['begin_date_weekday'] = temp['begin_date'].dt.dayofweek + 1"
   ]
  },
  {
   "cell_type": "code",
   "execution_count": 23,
   "metadata": {},
   "outputs": [],
   "source": [
    "temp['begin_date_is_weekend'] = np.where((temp['begin_date_weekday']==6)|(temp['begin_date_weekday']==7), 1 ,0)"
   ]
  },
  {
   "cell_type": "code",
   "execution_count": 24,
   "metadata": {},
   "outputs": [],
   "source": [
    "temp.to_csv('order_with_group_begin_date.csv', sep = \",\", encoding = 'utf8', index = False)"
   ]
  },
  {
   "cell_type": "code",
   "execution_count": 26,
   "metadata": {
    "collapsed": true
   },
   "outputs": [
    {
     "data": {
      "text/plain": [
       "order_id                 0\n",
       "deal_or_not              0\n",
       "group_id                 0\n",
       "order_date               0\n",
       "source_1                 0\n",
       "source_2                 0\n",
       "unit                     0\n",
       "people_amount            0\n",
       "begin_date               0\n",
       "wait_duration            0\n",
       "order_date_weekday       0\n",
       "order_date_is_weekend    0\n",
       "begin_date_weekday       0\n",
       "begin_date_is_weekend    0\n",
       "dtype: int64"
      ]
     },
     "execution_count": 26,
     "metadata": {},
     "output_type": "execute_result"
    }
   ],
   "source": [
    "temp.isna().sum()"
   ]
  },
  {
   "cell_type": "code",
   "execution_count": 55,
   "metadata": {},
   "outputs": [
    {
     "data": {
      "text/plain": [
       "297020"
      ]
     },
     "execution_count": 55,
     "metadata": {},
     "output_type": "execute_result"
    }
   ],
   "source": [
    "temp.order_id.count()"
   ]
  },
  {
   "cell_type": "code",
   "execution_count": 44,
   "metadata": {},
   "outputs": [],
   "source": [
    "unit_group_count = temp.groupby(['unit','group_id']).agg('count')\n",
    "unit_group_count.reset_index(inplace = True)\n",
    "unit_group_count = unit_group_count[['unit','group_id','order_id']]\n",
    "unit_group_count = unit_group_count.rename(columns ={'order_id':'unit_group_count'})"
   ]
  },
  {
   "cell_type": "code",
   "execution_count": 46,
   "metadata": {},
   "outputs": [
    {
     "data": {
      "text/plain": [
       "count    183252.000000\n",
       "mean          1.620828\n",
       "std           1.357105\n",
       "min           1.000000\n",
       "25%           1.000000\n",
       "50%           1.000000\n",
       "75%           2.000000\n",
       "max          51.000000\n",
       "Name: unit_group_count, dtype: float64"
      ]
     },
     "execution_count": 46,
     "metadata": {},
     "output_type": "execute_result"
    }
   ],
   "source": [
    "unit_group_count.unit_group_count.describe()"
   ]
  },
  {
   "cell_type": "code",
   "execution_count": 48,
   "metadata": {},
   "outputs": [],
   "source": [
    "unit_group_count = pd.merge(temp, unit_group_count, on=['unit','group_id'], how='left')"
   ]
  },
  {
   "cell_type": "code",
   "execution_count": 50,
   "metadata": {},
   "outputs": [],
   "source": [
    "unit_group_count = unit_group_count[['order_id','unit_group_count']]"
   ]
  },
  {
   "cell_type": "code",
   "execution_count": 52,
   "metadata": {},
   "outputs": [
    {
     "data": {
      "text/plain": [
       "0"
      ]
     },
     "execution_count": 52,
     "metadata": {},
     "output_type": "execute_result"
    }
   ],
   "source": [
    "unit_group_count.unit_group_count.isna().sum()"
   ]
  },
  {
   "cell_type": "code",
   "execution_count": 54,
   "metadata": {},
   "outputs": [],
   "source": [
    "unit_group_count.to_csv('unit_group_count.csv', sep=',', index = False, encoding='utf8')"
   ]
  },
  {
   "cell_type": "code",
   "execution_count": null,
   "metadata": {},
   "outputs": [],
   "source": []
  }
 ],
 "metadata": {
  "kernelspec": {
   "display_name": "Python 3",
   "language": "python",
   "name": "python3"
  },
  "language_info": {
   "codemirror_mode": {
    "name": "ipython",
    "version": 3
   },
   "file_extension": ".py",
   "mimetype": "text/x-python",
   "name": "python",
   "nbconvert_exporter": "python",
   "pygments_lexer": "ipython3",
   "version": "3.6.0"
  }
 },
 "nbformat": 4,
 "nbformat_minor": 2
}
